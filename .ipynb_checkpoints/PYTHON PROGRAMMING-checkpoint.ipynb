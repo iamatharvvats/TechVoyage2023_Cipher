{
 "cells": [
  {
   "cell_type": "markdown",
   "id": "f8d30640",
   "metadata": {},
   "source": [
    "# STRINGS "
   ]
  },
  {
   "cell_type": "code",
   "execution_count": 1,
   "id": "421820f8",
   "metadata": {},
   "outputs": [
    {
     "name": "stdout",
     "output_type": "stream",
     "text": [
      "enter your name:ANANAY VATS\n",
      "welcomeANANAY VATS\n"
     ]
    }
   ],
   "source": [
    "name = input(\"enter your name:\")\n",
    "print (\"welcome\" + name)"
   ]
  },
  {
   "cell_type": "markdown",
   "id": "8b993423",
   "metadata": {},
   "source": [
    "# CREATING STRINGS"
   ]
  },
  {
   "cell_type": "markdown",
   "id": "e7d21284",
   "metadata": {},
   "source": [
    "# Escape sequences"
   ]
  },
  {
   "cell_type": "code",
   "execution_count": 3,
   "id": "2a09044b",
   "metadata": {},
   "outputs": [
    {
     "name": "stdout",
     "output_type": "stream",
     "text": [
      "this is my car\n"
     ]
    }
   ],
   "source": [
    "str = \"this is my car\"\n",
    "print (str)"
   ]
  },
  {
   "cell_type": "code",
   "execution_count": 4,
   "id": "e92c5070",
   "metadata": {},
   "outputs": [
    {
     "name": "stdout",
     "output_type": "stream",
     "text": [
      "MY FATHER\n",
      " IS MY\n",
      " INSPIRATION\n"
     ]
    }
   ],
   "source": [
    "print(\"MY FATHER\\n IS MY\\n INSPIRATION\")"
   ]
  },
  {
   "cell_type": "code",
   "execution_count": 5,
   "id": "ebb10281",
   "metadata": {},
   "outputs": [
    {
     "name": "stdout",
     "output_type": "stream",
     "text": [
      "MY FATHER\n",
      " IS MY\t INSPIRATION\n"
     ]
    }
   ],
   "source": [
    "print (\"MY FATHER\\n IS MY\\t INSPIRATION\")"
   ]
  },
  {
   "cell_type": "markdown",
   "id": "73619a68",
   "metadata": {},
   "source": [
    "# Multiline strings"
   ]
  },
  {
   "cell_type": "code",
   "execution_count": 20,
   "id": "5a3d2152",
   "metadata": {
    "scrolled": false
   },
   "outputs": [
    {
     "name": "stdout",
     "output_type": "stream",
     "text": [
      "Python is an \n",
      "interpreter based language\n",
      "and is a high level language. \n",
      "Let us start python programming\n"
     ]
    }
   ],
   "source": [
    "print('''Python is an \n",
    "interpreter based language\n",
    "and is a high level language. \n",
    "Let us start python programming''')"
   ]
  },
  {
   "cell_type": "markdown",
   "id": "91d48d2f",
   "metadata": {},
   "source": [
    "# TRAVERSING A STRING"
   ]
  },
  {
   "cell_type": "markdown",
   "id": "133ae849",
   "metadata": {},
   "source": [
    "# Index with positive integer"
   ]
  },
  {
   "cell_type": "code",
   "execution_count": 19,
   "id": "bf80a377",
   "metadata": {},
   "outputs": [
    {
     "name": "stdout",
     "output_type": "stream",
     "text": [
      "o\n"
     ]
    }
   ],
   "source": [
    "fruit= 'orange'\n",
    "hello= fruit[1]\n",
    "\n",
    "hello= fruit[0]\n",
    "print (hello)"
   ]
  },
  {
   "cell_type": "code",
   "execution_count": 21,
   "id": "5bd59416",
   "metadata": {},
   "outputs": [
    {
     "name": "stdout",
     "output_type": "stream",
     "text": [
      "L\n",
      "A\n",
      "P\n",
      "T\n",
      "O\n",
      "P\n"
     ]
    }
   ],
   "source": [
    "str='LAPTOP'\n",
    "for i in str:\n",
    "    print(i)"
   ]
  },
  {
   "cell_type": "markdown",
   "id": "787bef4c",
   "metadata": {},
   "source": [
    "# STRING OPERATORS"
   ]
  },
  {
   "cell_type": "markdown",
   "id": "36044ab7",
   "metadata": {},
   "source": [
    "# Concatenating Strings"
   ]
  },
  {
   "cell_type": "code",
   "execution_count": 22,
   "id": "05f34a27",
   "metadata": {},
   "outputs": [
    {
     "name": "stdout",
     "output_type": "stream",
     "text": [
      "a + b =  hellomy friend\n"
     ]
    }
   ],
   "source": [
    "a='hello'\n",
    "b='my friend'\n",
    "print('a + b = ',a+b)"
   ]
  },
  {
   "cell_type": "markdown",
   "id": "83201a67",
   "metadata": {},
   "source": [
    "# Replicating Strings"
   ]
  },
  {
   "cell_type": "code",
   "execution_count": 23,
   "id": "487e44ec",
   "metadata": {},
   "outputs": [
    {
     "name": "stdout",
     "output_type": "stream",
     "text": [
      "x*3 = MOMMOMMOM\n"
     ]
    }
   ],
   "source": [
    "x='MOM'\n",
    "print('x*3 =',x*3)"
   ]
  },
  {
   "cell_type": "markdown",
   "id": "db96dbd9",
   "metadata": {},
   "source": [
    "# Membership Operators"
   ]
  },
  {
   "cell_type": "code",
   "execution_count": 24,
   "id": "c3660e8f",
   "metadata": {},
   "outputs": [
    {
     "data": {
      "text/plain": [
       "True"
      ]
     },
     "execution_count": 24,
     "metadata": {},
     "output_type": "execute_result"
    }
   ],
   "source": [
    "'r' in 'interpreter'"
   ]
  },
  {
   "cell_type": "code",
   "execution_count": 25,
   "id": "46593209",
   "metadata": {},
   "outputs": [
    {
     "data": {
      "text/plain": [
       "False"
      ]
     },
     "execution_count": 25,
     "metadata": {},
     "output_type": "execute_result"
    }
   ],
   "source": [
    "'glass' not in 'glasses'"
   ]
  },
  {
   "cell_type": "markdown",
   "id": "d67f4f08",
   "metadata": {},
   "source": [
    "# Comparison Operators"
   ]
  },
  {
   "cell_type": "code",
   "execution_count": 26,
   "id": "e79d2c25",
   "metadata": {},
   "outputs": [
    {
     "data": {
      "text/plain": [
       "False"
      ]
     },
     "execution_count": 26,
     "metadata": {},
     "output_type": "execute_result"
    }
   ],
   "source": [
    "'XYZ' == 'xyz'"
   ]
  },
  {
   "cell_type": "code",
   "execution_count": 27,
   "id": "bebf74da",
   "metadata": {},
   "outputs": [
    {
     "data": {
      "text/plain": [
       "True"
      ]
     },
     "execution_count": 27,
     "metadata": {},
     "output_type": "execute_result"
    }
   ],
   "source": [
    "\"A\"!= \"a\""
   ]
  },
  {
   "cell_type": "markdown",
   "id": "069b2272",
   "metadata": {},
   "source": [
    "# String Slicing"
   ]
  },
  {
   "cell_type": "code",
   "execution_count": 28,
   "id": "36925381",
   "metadata": {},
   "outputs": [
    {
     "name": "stdout",
     "output_type": "stream",
     "text": [
      "n\n"
     ]
    }
   ],
   "source": [
    "str='intendation'\n",
    "print(str[4])"
   ]
  },
  {
   "cell_type": "code",
   "execution_count": 29,
   "id": "ab03c2d3",
   "metadata": {},
   "outputs": [
    {
     "name": "stdout",
     "output_type": "stream",
     "text": [
      "o\n"
     ]
    }
   ],
   "source": [
    "str='intendation'\n",
    "print(str[-2])"
   ]
  },
  {
   "cell_type": "code",
   "execution_count": null,
   "id": "eeb98e7c",
   "metadata": {},
   "outputs": [],
   "source": []
  }
 ],
 "metadata": {
  "kernelspec": {
   "display_name": "Python 3 (ipykernel)",
   "language": "python",
   "name": "python3"
  },
  "language_info": {
   "codemirror_mode": {
    "name": "ipython",
    "version": 3
   },
   "file_extension": ".py",
   "mimetype": "text/x-python",
   "name": "python",
   "nbconvert_exporter": "python",
   "pygments_lexer": "ipython3",
   "version": "3.9.7"
  }
 },
 "nbformat": 4,
 "nbformat_minor": 5
}

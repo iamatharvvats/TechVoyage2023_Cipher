{
 "cells": [
  {
   "cell_type": "code",
   "execution_count": 7,
   "id": "917f61cc",
   "metadata": {},
   "outputs": [
    {
     "name": "stdout",
     "output_type": "stream",
     "text": [
      "enter the amount4000\n",
      "the price after 10% discount is 3600.0\n"
     ]
    }
   ],
   "source": [
    "price=float(input(\"enter the amount\"))\n",
    "if price>=5000:\n",
    " discount=price-((20/100)* price)\n",
    " print(\"the price after 20% dicount is\",discount)\n",
    "elif price>=3000:\n",
    " discount=price-((10/100)* price)\n",
    " print(\"the price after 10% discount is\",discount)\n",
    "else: \n",
    " discount=price-((5/100)* price) \n",
    " print (\" the price after 5% discount is\",discount)\n",
    "\n"
   ]
  },
  {
   "cell_type": "code",
   "execution_count": null,
   "id": "c55cd0d6",
   "metadata": {},
   "outputs": [],
   "source": []
  },
  {
   "cell_type": "code",
   "execution_count": null,
   "id": "3c79d25c",
   "metadata": {},
   "outputs": [],
   "source": []
  }
 ],
 "metadata": {
  "kernelspec": {
   "display_name": "Python 3 (ipykernel)",
   "language": "python",
   "name": "python3"
  },
  "language_info": {
   "codemirror_mode": {
    "name": "ipython",
    "version": 3
   },
   "file_extension": ".py",
   "mimetype": "text/x-python",
   "name": "python",
   "nbconvert_exporter": "python",
   "pygments_lexer": "ipython3",
   "version": "3.9.7"
  }
 },
 "nbformat": 4,
 "nbformat_minor": 5
}

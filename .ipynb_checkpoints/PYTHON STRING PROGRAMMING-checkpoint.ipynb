{
 "cells": [
  {
   "cell_type": "markdown",
   "id": "aee35a4f",
   "metadata": {},
   "source": [
    "# STRINGS "
   ]
  },
  {
   "cell_type": "code",
   "execution_count": 1,
   "id": "03d57df1",
   "metadata": {},
   "outputs": [
    {
     "name": "stdout",
     "output_type": "stream",
     "text": [
      "enter your name:ANANAY VATS\n",
      "welcomeANANAY VATS\n"
     ]
    }
   ],
   "source": [
    "name = input(\"enter your name:\")\n",
    "print (\"welcome\" + name)"
   ]
  },
  {
   "cell_type": "markdown",
   "id": "8f7c2b29",
   "metadata": {},
   "source": [
    "# CREATING STRINGS"
   ]
  },
  {
   "cell_type": "markdown",
   "id": "4b8cd4f3",
   "metadata": {},
   "source": [
    "# Escape sequences"
   ]
  },
  {
   "cell_type": "code",
   "execution_count": 3,
   "id": "99a39c1b",
   "metadata": {},
   "outputs": [
    {
     "name": "stdout",
     "output_type": "stream",
     "text": [
      "this is my car\n"
     ]
    }
   ],
   "source": [
    "str = \"this is my car\"\n",
    "print (str)"
   ]
  },
  {
   "cell_type": "code",
   "execution_count": 4,
   "id": "fdc56d34",
   "metadata": {},
   "outputs": [
    {
     "name": "stdout",
     "output_type": "stream",
     "text": [
      "MY FATHER\n",
      " IS MY\n",
      " INSPIRATION\n"
     ]
    }
   ],
   "source": [
    "print(\"MY FATHER\\n IS MY\\n INSPIRATION\")"
   ]
  },
  {
   "cell_type": "code",
   "execution_count": 5,
   "id": "9846da54",
   "metadata": {},
   "outputs": [
    {
     "name": "stdout",
     "output_type": "stream",
     "text": [
      "MY FATHER\n",
      " IS MY\t INSPIRATION\n"
     ]
    }
   ],
   "source": [
    "print (\"MY FATHER\\n IS MY\\t INSPIRATION\")"
   ]
  },
  {
   "cell_type": "markdown",
   "id": "1962afa9",
   "metadata": {},
   "source": [
    "# Multiline strings"
   ]
  },
  {
   "cell_type": "code",
   "execution_count": 20,
   "id": "487d9029",
   "metadata": {
    "scrolled": false
   },
   "outputs": [
    {
     "name": "stdout",
     "output_type": "stream",
     "text": [
      "Python is an \n",
      "interpreter based language\n",
      "and is a high level language. \n",
      "Let us start python programming\n"
     ]
    }
   ],
   "source": [
    "print('''Python is an \n",
    "interpreter based language\n",
    "and is a high level language. \n",
    "Let us start python programming''')"
   ]
  },
  {
   "cell_type": "markdown",
   "id": "7d717d4f",
   "metadata": {},
   "source": [
    "# TRAVERSING A STRING"
   ]
  },
  {
   "cell_type": "markdown",
   "id": "2620c957",
   "metadata": {},
   "source": [
    "# Index with positive integer"
   ]
  },
  {
   "cell_type": "code",
   "execution_count": 19,
   "id": "10f8de33",
   "metadata": {},
   "outputs": [
    {
     "name": "stdout",
     "output_type": "stream",
     "text": [
      "o\n"
     ]
    }
   ],
   "source": [
    "fruit= 'orange'\n",
    "hello= fruit[1]\n",
    "\n",
    "hello= fruit[0]\n",
    "print (hello)"
   ]
  },
  {
   "cell_type": "code",
   "execution_count": 21,
   "id": "25212b12",
   "metadata": {},
   "outputs": [
    {
     "name": "stdout",
     "output_type": "stream",
     "text": [
      "L\n",
      "A\n",
      "P\n",
      "T\n",
      "O\n",
      "P\n"
     ]
    }
   ],
   "source": [
    "str='LAPTOP'\n",
    "for i in str:\n",
    "    print(i)"
   ]
  },
  {
   "cell_type": "markdown",
   "id": "561b86d4",
   "metadata": {},
   "source": [
    "# STRING OPERATORS"
   ]
  },
  {
   "cell_type": "markdown",
   "id": "95794101",
   "metadata": {},
   "source": [
    "# Concatenating Strings"
   ]
  },
  {
   "cell_type": "code",
   "execution_count": 22,
   "id": "5dd0011c",
   "metadata": {},
   "outputs": [
    {
     "name": "stdout",
     "output_type": "stream",
     "text": [
      "a + b =  hellomy friend\n"
     ]
    }
   ],
   "source": [
    "a='hello'\n",
    "b='my friend'\n",
    "print('a + b = ',a+b)"
   ]
  },
  {
   "cell_type": "markdown",
   "id": "d243a90e",
   "metadata": {},
   "source": [
    "# Replicating Strings"
   ]
  },
  {
   "cell_type": "code",
   "execution_count": 23,
   "id": "97b9f245",
   "metadata": {},
   "outputs": [
    {
     "name": "stdout",
     "output_type": "stream",
     "text": [
      "x*3 = MOMMOMMOM\n"
     ]
    }
   ],
   "source": [
    "x='MOM'\n",
    "print('x*3 =',x*3)"
   ]
  },
  {
   "cell_type": "markdown",
   "id": "1d1638d4",
   "metadata": {},
   "source": [
    "# Membership Operators"
   ]
  },
  {
   "cell_type": "code",
   "execution_count": 24,
   "id": "030b12ff",
   "metadata": {},
   "outputs": [
    {
     "data": {
      "text/plain": [
       "True"
      ]
     },
     "execution_count": 24,
     "metadata": {},
     "output_type": "execute_result"
    }
   ],
   "source": [
    "'r' in 'interpreter'"
   ]
  },
  {
   "cell_type": "code",
   "execution_count": 25,
   "id": "5fbef690",
   "metadata": {},
   "outputs": [
    {
     "data": {
      "text/plain": [
       "False"
      ]
     },
     "execution_count": 25,
     "metadata": {},
     "output_type": "execute_result"
    }
   ],
   "source": [
    "'glass' not in 'glasses'"
   ]
  },
  {
   "cell_type": "markdown",
   "id": "54dc11a3",
   "metadata": {},
   "source": [
    "# Comparison Operators"
   ]
  },
  {
   "cell_type": "code",
   "execution_count": 26,
   "id": "da7f9877",
   "metadata": {},
   "outputs": [
    {
     "data": {
      "text/plain": [
       "False"
      ]
     },
     "execution_count": 26,
     "metadata": {},
     "output_type": "execute_result"
    }
   ],
   "source": [
    "'XYZ' == 'xyz'"
   ]
  },
  {
   "cell_type": "code",
   "execution_count": 27,
   "id": "bdda57d5",
   "metadata": {},
   "outputs": [
    {
     "data": {
      "text/plain": [
       "True"
      ]
     },
     "execution_count": 27,
     "metadata": {},
     "output_type": "execute_result"
    }
   ],
   "source": [
    "\"A\"!= \"a\""
   ]
  },
  {
   "cell_type": "markdown",
   "id": "11e845ed",
   "metadata": {},
   "source": [
    "# String Slicing"
   ]
  },
  {
   "cell_type": "code",
   "execution_count": 28,
   "id": "2469b648",
   "metadata": {},
   "outputs": [
    {
     "name": "stdout",
     "output_type": "stream",
     "text": [
      "n\n"
     ]
    }
   ],
   "source": [
    "str='intendation'\n",
    "print(str[4])"
   ]
  },
  {
   "cell_type": "code",
   "execution_count": 29,
   "id": "7220491c",
   "metadata": {},
   "outputs": [
    {
     "name": "stdout",
     "output_type": "stream",
     "text": [
      "o\n"
     ]
    }
   ],
   "source": [
    "str='intendation'\n",
    "print(str[-2])"
   ]
  },
  {
   "cell_type": "code",
   "execution_count": null,
   "id": "fc05bd3c",
   "metadata": {},
   "outputs": [],
   "source": []
  }
 ],
 "metadata": {
  "kernelspec": {
   "display_name": "Python 3 (ipykernel)",
   "language": "python",
   "name": "python3"
  },
  "language_info": {
   "codemirror_mode": {
    "name": "ipython",
    "version": 3
   },
   "file_extension": ".py",
   "mimetype": "text/x-python",
   "name": "python",
   "nbconvert_exporter": "python",
   "pygments_lexer": "ipython3",
   "version": "3.9.7"
  }
 },
 "nbformat": 4,
 "nbformat_minor": 5
}

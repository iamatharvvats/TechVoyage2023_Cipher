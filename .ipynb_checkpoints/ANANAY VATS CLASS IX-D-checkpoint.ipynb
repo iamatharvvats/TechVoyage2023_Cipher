{
 "cells": [
  {
   "cell_type": "code",
   "execution_count": 1,
   "id": "f542ba6a",
   "metadata": {},
   "outputs": [
    {
     "name": "stdout",
     "output_type": "stream",
     "text": [
      "11\n"
     ]
    }
   ],
   "source": [
    "str='hello world'\n",
    "print(len(str))"
   ]
  },
  {
   "cell_type": "code",
   "execution_count": 2,
   "id": "f2007aa4",
   "metadata": {},
   "outputs": [
    {
     "data": {
      "text/plain": [
       "'HELLO'"
      ]
     },
     "execution_count": 2,
     "metadata": {},
     "output_type": "execute_result"
    }
   ],
   "source": [
    "\"hello\".upper()"
   ]
  },
  {
   "cell_type": "code",
   "execution_count": null,
   "id": "2aa8db7b",
   "metadata": {},
   "outputs": [],
   "source": []
  }
 ],
 "metadata": {
  "kernelspec": {
   "display_name": "Python 3 (ipykernel)",
   "language": "python",
   "name": "python3"
  },
  "language_info": {
   "codemirror_mode": {
    "name": "ipython",
    "version": 3
   },
   "file_extension": ".py",
   "mimetype": "text/x-python",
   "name": "python",
   "nbconvert_exporter": "python",
   "pygments_lexer": "ipython3",
   "version": "3.9.7"
  }
 },
 "nbformat": 4,
 "nbformat_minor": 5
}
